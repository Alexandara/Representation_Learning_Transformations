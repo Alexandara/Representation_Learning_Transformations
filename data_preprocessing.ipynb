{
 "cells": [
  {
   "cell_type": "code",
   "execution_count": 3,
   "metadata": {},
   "outputs": [],
   "source": [
    "import torch\n",
    "import torchvision\n",
    "from torchvision import transforms, datasets"
   ]
  },
  {
   "cell_type": "code",
   "execution_count": 4,
   "metadata": {},
   "outputs": [],
   "source": [
    "import torch.nn as nn\n",
    "import torch.nn.functional as F"
   ]
  },
  {
   "cell_type": "code",
   "execution_count": 5,
   "metadata": {},
   "outputs": [],
   "source": [
    "import os\n",
    "import cv2\n",
    "import numpy as np\n",
    "from tqdm import tqdm"
   ]
  },
  {
   "cell_type": "code",
   "execution_count": 20,
   "metadata": {},
   "outputs": [
    {
     "name": "stderr",
     "output_type": "stream",
     "text": [
      "  1%|█                                                                                | 787/60000 [00:00<00:07, 7865.60it/s]"
     ]
    },
    {
     "name": "stdout",
     "output_type": "stream",
     "text": [
      "Images/Rigid\n"
     ]
    },
    {
     "name": "stderr",
     "output_type": "stream",
     "text": [
      "100%|███████████████████████████████████████████████████████████████████████████████| 60000/60000 [00:07<00:00, 7839.65it/s]\n",
      "  1%|█                                                                                | 777/60000 [00:00<00:07, 7729.19it/s]"
     ]
    },
    {
     "name": "stdout",
     "output_type": "stream",
     "text": [
      "Images/NonRigid\n"
     ]
    },
    {
     "name": "stderr",
     "output_type": "stream",
     "text": [
      "100%|███████████████████████████████████████████████████████████████████████████████| 60000/60000 [00:07<00:00, 7640.91it/s]\n"
     ]
    },
    {
     "name": "stdout",
     "output_type": "stream",
     "text": [
      "Rigid: 60000\n",
      "Nonrigid: 60000\n"
     ]
    }
   ],
   "source": [
    "REBUILD_DATA = True\n",
    "\n",
    "class RigidVSNonrigid():\n",
    "    IMG_SIZE=28\n",
    "    RIGID = \"Images/Rigid\"\n",
    "    NONRIGID = \"Images/NonRigid\"\n",
    "    LABELS = {RIGID: 0, NONRIGID: 1}\n",
    "    \n",
    "    training_data = []\n",
    "    rigidcount = 0\n",
    "    nonrigidcount = 0\n",
    "    \n",
    "    def make_training_data(self):\n",
    "        for label in self.LABELS:\n",
    "            print(label)\n",
    "            for f in tqdm(os.listdir(label)):\n",
    "                try:\n",
    "                    path = os.path.join(label,f)\n",
    "                    img = cv2.imread(path,cv2.IMREAD_GRAYSCALE)\n",
    "                    img = cv2.resize(img,(self.IMG_SIZE, self.IMG_SIZE))\n",
    "                    self.training_data.append([np.array(img),np.eye(2)[self.LABELS[label]]])\n",
    "\n",
    "                    if label == self.RIGID:\n",
    "                        self.rigidcount += 1\n",
    "                    elif label == self.NONRIGID:\n",
    "                        self.nonrigidcount += 1\n",
    "                    else:\n",
    "                        print(label)\n",
    "                        print(self.RIGID)\n",
    "                        print(self.NONRIGID)\n",
    "                except Exception as e:\n",
    "                    pass\n",
    "        np.random.shuffle(self.training_data)\n",
    "        np.save(\"training_data.npy\",self.training_data)\n",
    "        print(\"Rigid:\",self.rigidcount)\n",
    "        print(\"Nonrigid:\",self.nonrigidcount)\n",
    "\n",
    "        \n",
    "if REBUILD_DATA:\n",
    "    rigidvnonrigid = RigidVSNonrigid()\n",
    "    rigidvnonrigid.make_training_data()\n",
    "                    "
   ]
  },
  {
   "cell_type": "code",
   "execution_count": 6,
   "metadata": {},
   "outputs": [],
   "source": [
    "training_data = np.load(\"training_data.npy\",allow_pickle=True)"
   ]
  },
  {
   "cell_type": "code",
   "execution_count": 7,
   "metadata": {},
   "outputs": [
    {
     "name": "stdout",
     "output_type": "stream",
     "text": [
      "120000\n"
     ]
    }
   ],
   "source": [
    "print(len(training_data))"
   ]
  },
  {
   "cell_type": "code",
   "execution_count": 8,
   "metadata": {},
   "outputs": [
    {
     "name": "stdout",
     "output_type": "stream",
     "text": [
      "[array([[  0,   0,   0,   5,   9,   0,   0,   6,   4,   0,   4,   0,   0,\n",
      "          5,   0,   4,   0,   0,   0,   1,   0,   0,   0,   5,   0,   2,\n",
      "          3,   1],\n",
      "       [  3,   0,   0,   0,   0,   0,   3,   5,   7,   0,   0,   0,   0,\n",
      "          0,   0,   0,   8,   3,   0,   1,   0,   0,   0,   0,   4,   5,\n",
      "          2,   0],\n",
      "       [  7,   1,   1,   0,   0,   5,   4,   0,   0,   0,   6,   5,   8,\n",
      "         13,   1,   3,   0,   0,   3,  16,  19,  12,   3,   0,   1,   0,\n",
      "          0,   0],\n",
      "       [  0,   0,   1,   8,   3,   4,   7,   0,   5,   2,  11,   0,   0,\n",
      "         10,  11,  23,  29,  34,  47,  61,  64,  52,  37,  28,  48,  44,\n",
      "         20,   5],\n",
      "       [  0,   0,   4,  10,   0,   0,   0,   4,   6,  25,  58,  61,  62,\n",
      "         72,  71,  82,  87, 104, 120, 114,  87,  63,  62,  73,  66,  66,\n",
      "         32,   3],\n",
      "       [  0,  28,  55,  70,  74,  61,  60,  80,  87, 108, 137, 127, 110,\n",
      "        103,  86,  87,  88,  65,  58,  90, 131, 136, 100,  62,  83,  91,\n",
      "         45,   0],\n",
      "       [ 22,  90, 120, 125, 147, 148, 141, 159, 137, 140, 147, 128, 126,\n",
      "        151, 166, 185, 191, 202, 215, 214, 195, 168, 152, 149, 145, 157,\n",
      "         92,  12],\n",
      "       [ 88, 155, 143,  95,  99, 100,  84,  95,  92,  97, 108,  94,  92,\n",
      "        107, 103, 106, 110, 104, 103, 112, 123, 133, 142, 149, 145, 163,\n",
      "         93,   3],\n",
      "       [100, 152, 130, 143, 141, 132, 137, 151, 144, 145, 148, 151, 155,\n",
      "        158, 161, 162, 163, 170, 174, 175, 179, 181, 173, 162, 167, 157,\n",
      "        105,  34],\n",
      "       [112, 161, 136, 150, 158, 152, 142, 138, 151, 151, 153, 155, 158,\n",
      "        161, 164, 166, 160, 164, 164, 161, 163, 168, 168, 163, 169, 156,\n",
      "        103,  20],\n",
      "       [124, 185, 167, 180, 188, 187, 173, 160, 150, 149, 149, 149, 150,\n",
      "        153, 155, 156, 172, 175, 176, 173, 172, 175, 176, 175, 169, 151,\n",
      "        104,   6],\n",
      "       [ 97, 177, 169, 173, 169, 167, 161, 152, 150, 148, 146, 143, 142,\n",
      "        142, 143, 144, 158, 165, 171, 172, 169, 166, 165, 164, 167, 143,\n",
      "        108,   3],\n",
      "       [123, 202, 189, 187, 180, 180, 176, 168, 161, 159, 156, 152, 148,\n",
      "        146, 145, 144, 145, 150, 157, 161, 160, 159, 160, 163, 168, 134,\n",
      "        114,   7],\n",
      "       [116, 181, 158, 160, 165, 173, 169, 159, 168, 167, 165, 161, 158,\n",
      "        154, 151, 150, 150, 148, 149, 153, 157, 161, 169, 177, 175, 124,\n",
      "        116,  10],\n",
      "       [110, 169, 143, 147, 153, 159, 160, 157, 164, 165, 165, 164, 162,\n",
      "        158, 155, 153, 147, 141, 138, 143, 147, 150, 156, 163, 183, 115,\n",
      "        113,  10],\n",
      "       [124, 187, 164, 160, 149, 144, 150, 160, 160, 162, 164, 165, 165,\n",
      "        162, 159, 157, 153, 146, 144, 150, 153, 150, 147, 148, 188, 108,\n",
      "        109,   8],\n",
      "       [106, 187, 160, 174, 171, 159, 171, 162, 160, 157, 154, 153, 154,\n",
      "        155, 155, 155, 164, 160, 153, 146, 144, 146, 153, 158, 171, 112,\n",
      "        115,   4],\n",
      "       [102, 188, 160, 171, 179, 175, 184, 177, 169, 166, 163, 161, 161,\n",
      "        160, 158, 156, 148, 153, 158, 162, 162, 159, 156, 153, 160, 101,\n",
      "        108,  15],\n",
      "       [ 88, 181, 152, 155, 169, 169, 168, 164, 170, 168, 165, 162, 160,\n",
      "        157, 153, 149, 167, 167, 167, 166, 164, 161, 158, 156, 145,  92,\n",
      "         98,  18],\n",
      "       [105, 203, 180, 174, 183, 180, 170, 169, 167, 167, 167, 168, 169,\n",
      "        169, 166, 163, 156, 154, 153, 154, 156, 159, 161, 161, 126,  94,\n",
      "        100,  23],\n",
      "       [100, 195, 189, 185, 186, 184, 172, 175, 167, 167, 168, 171, 175,\n",
      "        176, 174, 172, 168, 168, 167, 166, 161, 152, 140, 132,  89,  81,\n",
      "         88,  13],\n",
      "       [ 90, 168, 181, 189, 184, 189, 181, 184, 188, 185, 180, 176, 172,\n",
      "        167, 161, 157, 150, 143, 133, 123, 113, 102,  89,  81,  82,  80,\n",
      "         78,   9],\n",
      "       [ 96, 147, 166, 184, 172, 180, 176, 171, 166, 161, 152, 144, 136,\n",
      "        129, 121, 117, 110, 102,  94,  90,  92,  95,  95,  94,  82,  70,\n",
      "         61,  15],\n",
      "       [ 57,  85, 101, 121, 102, 109, 103,  91,  73,  69,  64,  61,  59,\n",
      "         58,  56,  54,  54,  52,  52,  54,  55,  50,  39,  30,  34,  12,\n",
      "          7,   0],\n",
      "       [  7,   7,   6,   6,   5,   5,   4,   4,   0,   0,   0,   0,   0,\n",
      "          0,   0,   0,   0,   0,   0,   0,   0,   0,   0,   0,   0,   0,\n",
      "          0,   0],\n",
      "       [  2,   2,   2,   1,   1,   0,   0,   0,   0,   0,   0,   0,   0,\n",
      "          0,   0,   0,   0,   0,   0,   0,   0,   0,   0,   0,   0,   0,\n",
      "          0,   0],\n",
      "       [  0,   0,   0,   0,   0,   0,   0,   0,   0,   0,   0,   0,   0,\n",
      "          0,   0,   0,   0,   0,   0,   0,   0,   0,   0,   0,   0,   0,\n",
      "          0,   0],\n",
      "       [  1,   1,   1,   1,   0,   0,   0,   0,   0,   0,   0,   0,   0,\n",
      "          0,   0,   0,   0,   0,   0,   0,   0,   0,   0,   0,   0,   0,\n",
      "          0,   0]], dtype=uint8)\n",
      " array([0., 1.])]\n"
     ]
    }
   ],
   "source": [
    "print(training_data[0])"
   ]
  },
  {
   "cell_type": "code",
   "execution_count": 12,
   "metadata": {},
   "outputs": [
    {
     "data": {
      "image/png": "[encoded data removed]",
      "text/plain": [
       "<Figure size 432x288 with 1 Axes>"
      ]
     },
     "metadata": {
      "needs_background": "light"
     },
     "output_type": "display_data"
    }
   ],
   "source": [
    "import matplotlib.pyplot as plt\n",
    "\n",
    "plt.imshow(training_data[0][0],cmap=\"gray\")\n",
    "plt.show()"
   ]
  },
  {
   "cell_type": "code",
   "execution_count": null,
   "metadata": {},
   "outputs": [],
   "source": []
  }
 ],
 "metadata": {
  "kernelspec": {
   "display_name": "Python 3",
   "language": "python",
   "name": "python3"
  },
  "language_info": {
   "codemirror_mode": {
    "name": "ipython",
    "version": 3
   },
   "file_extension": ".py",
   "mimetype": "text/x-python",
   "name": "python",
   "nbconvert_exporter": "python",
   "pygments_lexer": "ipython3",
   "version": "3.8.5"
  }
 },
 "nbformat": 4,
 "nbformat_minor": 4
}
