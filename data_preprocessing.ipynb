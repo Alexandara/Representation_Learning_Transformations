{
 "cells": [
  {
   "cell_type": "code",
   "execution_count": 1,
   "metadata": {},
   "outputs": [],
   "source": [
    "import torch\n",
    "import torchvision\n",
    "from torchvision import transforms, datasets"
   ]
  },
  {
   "cell_type": "code",
   "execution_count": 2,
   "metadata": {},
   "outputs": [],
   "source": [
    "import torch.nn as nn\n",
    "import torch.nn.functional as F"
   ]
  },
  {
   "cell_type": "code",
   "execution_count": 3,
   "metadata": {},
   "outputs": [],
   "source": [
    "import os\n",
    "import cv2\n",
    "import numpy as np\n",
    "from tqdm import tqdm"
   ]
  },
  {
   "cell_type": "code",
   "execution_count": 4,
   "metadata": {},
   "outputs": [
    {
     "name": "stderr",
     "output_type": "stream",
     "text": [
      " 31%|██████████████████████████▎                                                          | 31/100 [00:00<00:00, 309.82it/s]"
     ]
    },
    {
     "name": "stdout",
     "output_type": "stream",
     "text": [
      "AlexisImages/Rigid\n"
     ]
    },
    {
     "name": "stderr",
     "output_type": "stream",
     "text": [
      "100%|████████████████████████████████████████████████████████████████████████████████████| 100/100 [00:00<00:00, 289.37it/s]\n",
      " 58%|█████████████████████████████████████████████████▎                                   | 58/100 [00:00<00:00, 283.43it/s]"
     ]
    },
    {
     "name": "stdout",
     "output_type": "stream",
     "text": [
      "AlexisImages/NonRigid\n"
     ]
    },
    {
     "name": "stderr",
     "output_type": "stream",
     "text": [
      "100%|████████████████████████████████████████████████████████████████████████████████████| 100/100 [00:00<00:00, 297.85it/s]"
     ]
    },
    {
     "name": "stdout",
     "output_type": "stream",
     "text": [
      "Rigid: 100\n",
      "Nonrigid: 100\n"
     ]
    },
    {
     "name": "stderr",
     "output_type": "stream",
     "text": [
      "\n",
      "C:\\Users\\gunne\\anaconda3\\envs\\cs791\\lib\\site-packages\\numpy\\core\\_asarray.py:136: VisibleDeprecationWarning: Creating an ndarray from ragged nested sequences (which is a list-or-tuple of lists-or-tuples-or ndarrays with different lengths or shapes) is deprecated. If you meant to do this, you must specify 'dtype=object' when creating the ndarray\n",
      "  return array(a, dtype, copy=False, order=order, subok=True)\n"
     ]
    }
   ],
   "source": [
    "REBUILD_DATA = True\n",
    "\n",
    "class RigidVSNonrigid():\n",
    "    IMG_SIZE=28\n",
    "    RIGID = \"AlexisImages/Rigid\"\n",
    "    NONRIGID = \"AlexisImages/NonRigid\"\n",
    "    LABELS = {RIGID: 0, NONRIGID: 1}\n",
    "    \n",
    "    training_data = []\n",
    "    rigidcount = 0\n",
    "    nonrigidcount = 0\n",
    "    \n",
    "    def make_training_data(self):\n",
    "        for label in self.LABELS:\n",
    "            print(label)\n",
    "            for f in tqdm(os.listdir(label)):\n",
    "                try:\n",
    "                    path = os.path.join(label,f)\n",
    "                    img = cv2.imread(path,cv2.IMREAD_GRAYSCALE)\n",
    "                    img = cv2.resize(img,(self.IMG_SIZE, self.IMG_SIZE))\n",
    "                    self.training_data.append([np.array(img),np.eye(2)[self.LABELS[label]]])\n",
    "\n",
    "                    if label == self.RIGID:\n",
    "                        self.rigidcount += 1\n",
    "                    elif label == self.NONRIGID:\n",
    "                        self.nonrigidcount += 1\n",
    "                    else:\n",
    "                        print(label)\n",
    "                        print(self.RIGID)\n",
    "                        print(self.NONRIGID)\n",
    "                except Exception as e:\n",
    "                    pass\n",
    "        np.random.shuffle(self.training_data)\n",
    "        np.save(\"alexis_training_data.npy\",self.training_data)\n",
    "        print(\"Rigid:\",self.rigidcount)\n",
    "        print(\"Nonrigid:\",self.nonrigidcount)\n",
    "\n",
    "        \n",
    "if REBUILD_DATA:\n",
    "    rigidvnonrigid = RigidVSNonrigid()\n",
    "    rigidvnonrigid.make_training_data()\n",
    "                    "
   ]
  },
  {
   "cell_type": "code",
   "execution_count": 5,
   "metadata": {},
   "outputs": [],
   "source": [
    "training_data = np.load(\"alexis_training_data.npy\",allow_pickle=True)"
   ]
  },
  {
   "cell_type": "code",
   "execution_count": 6,
   "metadata": {},
   "outputs": [
    {
     "name": "stdout",
     "output_type": "stream",
     "text": [
      "200\n"
     ]
    }
   ],
   "source": [
    "print(len(training_data))"
   ]
  },
  {
   "cell_type": "code",
   "execution_count": 7,
   "metadata": {},
   "outputs": [
    {
     "name": "stdout",
     "output_type": "stream",
     "text": [
      "[array([[  0,   0,   1,   1,   0,   0,   0,   0,   1,   0,   7,   0,  42,\n",
      "         66, 155, 160,  54,  95, 112, 102,  65,   0,   8,   0,   8,   5,\n",
      "         19, 104],\n",
      "       [ 88,  91, 118,   0,   0,  12,   0,   0,   0,   0,  29,  48,  93,\n",
      "        153, 166, 127,  84,  50,  82,  60,  57,  30,  12,   9,   0, 102,\n",
      "         13,   0],\n",
      "       [ 88, 109, 143,   5,   0,   0, 109,   4,   3,  55,  78,  87, 120,\n",
      "        171,  91, 122, 125,  96,  74,  93, 109,  49,  77,   6, 107,  42,\n",
      "          0,  25],\n",
      "       [ 90,   1,   0,  15,   0,  76,  51,   0,   7,   0,  11,  64,  88,\n",
      "        180,  95, 145, 167,  86,  85,  68,  81,  65,  93,  64,  70,  61,\n",
      "          8,   0],\n",
      "       [  0,   1,   8,   0,  38,  93,  36,   0,   0,  18,   7,  12,  52,\n",
      "         95,   0, 117, 187,  82,  73,  82,  89,  57,  90,  98, 113,   0,\n",
      "          7,   0],\n",
      "       [ 21,   8,   0, 100,  90,  69,  15,   7,  14,   0,   0,   0,  58,\n",
      "         86,   2,  15, 120,  37,   0,  90, 115,  55, 108, 116,  75,  86,\n",
      "        101,   0],\n",
      "       [ 62,   9, 100,  97,  15,   5,   0,   0,   0,  14,  12,   0,  94,\n",
      "         37,   0,   3, 140,  35,   0,   9,   9,   9,   0,  34,  47,  99,\n",
      "         66,   0],\n",
      "       [ 83,  87,  78,  79,   0,   9,  15,   0,   4,   0,   0,   0, 103,\n",
      "          1,   1,   5, 106,  85,   4,   2,   0,   1,  12,   0,   0,   2,\n",
      "          3,  78],\n",
      "       [ 96,  89, 100,   6,   0,   3,   2,   0,   0,  13,   0,  29,  88,\n",
      "          0,  11,   0,  99,  93,   0,  14,   5,   0,   0,   0,   6,   2,\n",
      "          9,   0],\n",
      "       [112, 107, 105,  41,   2,   0,   0,  12,   4,   0,  23,  62,  99,\n",
      "         19,   0,   0,  83, 128,  16,   0,   0,  14,   0,  13,   0,   0,\n",
      "          4,   0],\n",
      "       [ 52,  65,  31, 108,  62, 101,   7,  65,  76,  93,  48,  79,  75,\n",
      "          9,  25,   8,  65, 110,  97, 104,  79,  68,   6,   0,   4,  11,\n",
      "          6,  93],\n",
      "       [ 98,  98,  92,  97,  83,  42,  11,  83,  85,  98,  82, 105,  87,\n",
      "         68,  62,  56,  82,  93, 102, 102,  50,  54,   7,   8,   0,   0,\n",
      "          0,  87],\n",
      "       [ 83, 100, 110,  91,  78,  13,   0,  53,  92,  86,  42, 105,  92,\n",
      "         61,  87, 110,  48, 110, 111,  82,  61,  68,   0,   0,   8,   1,\n",
      "         43,   0],\n",
      "       [ 88, 100,  39,  39,   0,   5,   0,  47,  70, 113,  46, 118, 113,\n",
      "         59,  90,  62,  90, 105, 103, 101,  68,  65,   4,  15,   0,   0,\n",
      "         50,   2],\n",
      "       [  0,  25,  35,  12,   0,   0,  11,  43,  93, 101,  92,  50,  69,\n",
      "        117,  80,  89, 103,  59,  65, 118,  65,  37,   0,   0,   9,  38,\n",
      "         50,  76],\n",
      "       [  1,  10,   0,   6,   0,   4,   8,  10,  85,  99,  88,  56,  89,\n",
      "        110,  64,  66, 104,  97,  64,  97,  82,  55,   0,   4,  51,  91,\n",
      "         69,  56],\n",
      "       [  0,   0,   0,   0,   0,   0,   0,   0,  90,  98,  76,  60,  80,\n",
      "         93,  88,  88,  74,  82,  70, 121,  65,  40,   7,  61,  76,  75,\n",
      "         74,  73],\n",
      "       [  0,   0,   0,   0,   0,   0,   0,   0,  86,  95,  76,  65,  89,\n",
      "        101,  91,  87,  88,  82,  60, 101,  69,  60,  43,  93, 104, 103,\n",
      "        103, 105],\n",
      "       [  0,   0,   0,   0,   0,   0,   0,   0,  93, 100,  78,  61,  75,\n",
      "         76,  54,  43,  83,  80,  69,  99,  77,  59,  41,  76,  72,  70,\n",
      "         69,  69],\n",
      "       [  0,   0,   0,   0,   0,   0,   0,   0,  84,  96,  82,  69,  85,\n",
      "         89,  74,  67,  70,  79,  84, 104,  79,  42,  16,  37,  65,  73,\n",
      "         80,  81],\n",
      "       [  0,   0,   0,   0,   0,   0,   0,   0,  91, 104,  85,  63,  68,\n",
      "         66,  51,  48,  76,  78,  78, 100,  80,  41,   5,  15,  13,  41,\n",
      "         72,  87],\n",
      "       [  0,   0,   0,   0,   0,   0,   0,   0,  81,  97,  84,  72,  89,\n",
      "        101,  97, 101,  86,  77,  66, 106,  90,  53,   0,   0,   0,  27,\n",
      "         73,  94],\n",
      "       [  0,   0,   0,   0,   0,   0,   0,   0,  92, 100,  79,  64,  82,\n",
      "         92,  82,  79,  95,  85,  65, 116,  85,  54,   0,   8,  10,  46,\n",
      "         82,  93],\n",
      "       [  0,   0,   0,   0,   0,   0,   0,   0,  94,  97,  74,  64,  90,\n",
      "        104,  90,  82, 105,  97,  67, 113,  63,  46,  14,  66,  48,  72,\n",
      "         90,  88],\n",
      "       [  0,   0,   0,   0,   0,   0,   0,   0,  81, 109,  74,  55, 130,\n",
      "        164, 156,  71, 114,  81,  57, 122, 142,  61, 119,  52,  51,  47,\n",
      "         61,  18],\n",
      "       [  0,   0,   0,   0,   0,   0,   0,   0,  89,  97,  86, 113, 166,\n",
      "        149, 173, 180,  81,  83, 144, 206, 196,  65,  53,  15,  24,   9,\n",
      "         23,   0],\n",
      "       [  0,   0,   0,   0,   0,   0,   0,   0,  77, 118, 120, 138, 168,\n",
      "        149, 181, 205, 202, 222, 180, 235,  93,  85,   2,  72,  28,   0,\n",
      "          3,   0],\n",
      "       [  0,   0,   0,   0,   0,   0,   0,   0,  63, 137, 134, 130, 159,\n",
      "        160, 165, 151, 167, 155, 146,  57,  56,  24,  42,  89,  48,   3,\n",
      "          3,   0]], dtype=uint8)\n",
      " array([1., 0.])]\n"
     ]
    }
   ],
   "source": [
    "print(training_data[0])"
   ]
  },
  {
   "cell_type": "code",
   "execution_count": 8,
   "metadata": {},
   "outputs": [
    {
     "data": {
      "image/png": "[encoded data removed]",
      "text/plain": [
       "<Figure size 432x288 with 1 Axes>"
      ]
     },
     "metadata": {
      "needs_background": "light"
     },
     "output_type": "display_data"
    }
   ],
   "source": [
    "import matplotlib.pyplot as plt\n",
    "\n",
    "plt.imshow(training_data[0][0],cmap=\"gray\")\n",
    "plt.show()"
   ]
  },
  {
   "cell_type": "code",
   "execution_count": null,
   "metadata": {},
   "outputs": [],
   "source": []
  }
 ],
 "metadata": {
  "kernelspec": {
   "display_name": "Python 3",
   "language": "python",
   "name": "python3"
  },
  "language_info": {
   "codemirror_mode": {
    "name": "ipython",
    "version": 3
   },
   "file_extension": ".py",
   "mimetype": "text/x-python",
   "name": "python",
   "nbconvert_exporter": "python",
   "pygments_lexer": "ipython3",
   "version": "3.8.5"
  }
 },
 "nbformat": 4,
 "nbformat_minor": 4
}
