{
 "cells": [
  {
   "cell_type": "code",
   "execution_count": 1,
   "metadata": {},
   "outputs": [],
   "source": [
    "import numpy as np\n",
    "import cv2 as cv\n",
    "import matplotlib.pyplot as plt\n",
    "from tqdm.notebook import tqdm"
   ]
  },
  {
   "cell_type": "markdown",
   "metadata": {},
   "source": [
    "### Read in Test-Data to run feature matching algorithms on"
   ]
  },
  {
   "cell_type": "code",
   "execution_count": 2,
   "metadata": {},
   "outputs": [
    {
     "name": "stdout",
     "output_type": "stream",
     "text": [
      "Read in: 24000 images\n"
     ]
    }
   ],
   "source": [
    "testing_data = np.load(\"testing_data.npy\",allow_pickle=True)\n",
    "print(\"Read in: \"+str(len(testing_data))+\" images\")"
   ]
  },
  {
   "cell_type": "markdown",
   "metadata": {},
   "source": [
    "Verify data was read in correctly"
   ]
  },
  {
   "cell_type": "code",
   "execution_count": 3,
   "metadata": {},
   "outputs": [
    {
     "name": "stdout",
     "output_type": "stream",
     "text": [
      "Actual Label:[1. 0.]\n",
      "Predicted Label:[1. 0.]\n"
     ]
    },
    {
     "data": {
      "image/png": "[encoded data removed]",
      "text/plain": [
       "<Figure size 432x288 with 3 Axes>"
      ]
     },
     "metadata": {
      "needs_background": "light"
     },
     "output_type": "display_data"
    }
   ],
   "source": [
    "#change i to see a different test image\n",
    "#if i is 0, should see first image in test-set\n",
    "i = 2\n",
    "f, ax = plt.subplots(1,3) \n",
    "plt.gray()\n",
    "ax[0].imshow(testing_data[i][0])\n",
    "ax[1].imshow(testing_data[i][1])\n",
    "ax[2].imshow(testing_data[i][2])\n",
    "print(\"Actual Label:\"+str(testing_data[i][3]))\n",
    "print(\"Predicted Label:\"+str(testing_data[i][4]))"
   ]
  },
  {
   "cell_type": "markdown",
   "metadata": {},
   "source": [
    "### Run this to select Model's Tagged Rigid Data"
   ]
  },
  {
   "cell_type": "code",
   "execution_count": 5,
   "metadata": {},
   "outputs": [
    {
     "name": "stdout",
     "output_type": "stream",
     "text": [
      "12023\n"
     ]
    }
   ],
   "source": [
    "new_testing_data = []\n",
    "for i in range(len(testing_data)):\n",
    "    #Only put in Rigid images\n",
    "    if(int(testing_data[i][4][0])==1):\n",
    "        #Append Rigid Images\n",
    "        new_testing_data.append(testing_data[i])\n",
    "    else:\n",
    "        #Do nothing for NonRigid Images\n",
    "        pass\n",
    "    \n",
    "#Reassign test_data to Rigid-only\n",
    "testing_data = new_testing_data\n",
    "\n",
    "print(len(testing_data))"
   ]
  },
  {
   "cell_type": "markdown",
   "metadata": {},
   "source": [
    "### Brute-Force Matching with ORB Descriptors"
   ]
  },
  {
   "cell_type": "code",
   "execution_count": 6,
   "metadata": {},
   "outputs": [
    {
     "data": {
      "application/vnd.jupyter.widget-view+json": {
       "model_id": "19ce4a44632147849ac61da7a3a51851",
       "version_major": 2,
       "version_minor": 0
      },
      "text/plain": [
       "HBox(children=(FloatProgress(value=0.0, max=12023.0), HTML(value='')))"
      ]
     },
     "metadata": {},
     "output_type": "display_data"
    },
    {
     "name": "stdout",
     "output_type": "stream",
     "text": [
      "\n",
      "Total Features Matches Found: 0\n",
      "Average Features per Image: 0.0\n"
     ]
    },
    {
     "data": {
      "image/png": "[encoded data removed]",
      "text/plain": [
       "<Figure size 432x288 with 1 Axes>"
      ]
     },
     "metadata": {
      "needs_background": "light"
     },
     "output_type": "display_data"
    },
    {
     "data": {
      "text/plain": [
       "(<matplotlib.image.AxesImage at 0x1bb9073bf08>, None)"
      ]
     },
     "execution_count": 6,
     "metadata": {},
     "output_type": "execute_result"
    }
   ],
   "source": [
    "# img1 = cv.imread('box.png',cv.IMREAD_GRAYSCALE)          # queryImage\n",
    "# img2 = cv.imread('box_in_scene.png',cv.IMREAD_GRAYSCALE) # trainImage\n",
    "\n",
    "# img1 = cv.imread('original.jpg',cv.IMREAD_GRAYSCALE)          # queryImage\n",
    "# img2 = cv.imread('original.jpg',cv.IMREAD_GRAYSCALE) # trainImage\n",
    "#progress bar for training\n",
    "\n",
    "total_matches = 0\n",
    "valid_image_count = 0\n",
    "invalid_image_count = 0\n",
    "\n",
    "\n",
    "pbar = tqdm(range(len(testing_data)))\n",
    "for i in pbar:\n",
    "    try:\n",
    "        img1 = testing_data[i][1]\n",
    "        img2 = testing_data[i][2]\n",
    "\n",
    "        # Initiate ORB detector\n",
    "        orb = cv.ORB_create()\n",
    "        # find the keypoints and descriptors with ORB\n",
    "        kp1, des1 = orb.detectAndCompute(img1,None)\n",
    "        kp2, des2 = orb.detectAndCompute(img2,None)\n",
    "\n",
    "        # create BFMatcher object\n",
    "        bf = cv.BFMatcher(cv.NORM_HAMMING, crossCheck=True)\n",
    "        # Match descriptors.\n",
    "        matches = bf.match(des1,des2)\n",
    "        # Sort them in the order of their distance.\n",
    "        matches = sorted(matches, key = lambda x:x.distance)\n",
    "        total_matches += len(matches)\n",
    "    except Exception as e:\n",
    "        invalid_image_count += 1\n",
    "        pass\n",
    "# Draw matches.\n",
    "print(\"Total Features Matches Found: \"+str(total_matches))\n",
    "print(\"Average Features per Image: \"+str(total_matches/len(testing_data)))\n",
    "img3 = cv.drawMatches(img1,kp1,img2,kp2,matches,None,flags=cv.DrawMatchesFlags_NOT_DRAW_SINGLE_POINTS)\n",
    "plt.imshow(img3),plt.show()"
   ]
  },
  {
   "cell_type": "markdown",
   "metadata": {},
   "source": [
    "### Brute-Force Matching with SIFT Descriptors"
   ]
  },
  {
   "cell_type": "code",
   "execution_count": 7,
   "metadata": {},
   "outputs": [
    {
     "data": {
      "application/vnd.jupyter.widget-view+json": {
       "model_id": "af25b1cfe7794a61a0df2722e827918f",
       "version_major": 2,
       "version_minor": 0
      },
      "text/plain": [
       "HBox(children=(FloatProgress(value=0.0, max=12023.0), HTML(value='')))"
      ]
     },
     "metadata": {},
     "output_type": "display_data"
    },
    {
     "name": "stdout",
     "output_type": "stream",
     "text": [
      "\n",
      "Total Valid Images: 10832\n",
      "Total Invalid Images: 1191\n",
      "Total Features Matches Found: 45591\n",
      "Total Bad Matches Found: 30645\n",
      "Total Good Matches Found: 14946\n"
     ]
    },
    {
     "data": {
      "image/png": "[encoded data removed]",
      "text/plain": [
       "<Figure size 432x288 with 1 Axes>"
      ]
     },
     "metadata": {
      "needs_background": "light"
     },
     "output_type": "display_data"
    },
    {
     "data": {
      "text/plain": [
       "(<matplotlib.image.AxesImage at 0x1bb931bb2c8>, None)"
      ]
     },
     "execution_count": 7,
     "metadata": {},
     "output_type": "execute_result"
    }
   ],
   "source": [
    "total_matches = 0\n",
    "valid_image_count = 0\n",
    "invalid_image_count = 0\n",
    "good_matches = 0\n",
    "\n",
    "pbar = tqdm(range(len(testing_data)))\n",
    "for i in pbar:\n",
    "    try:\n",
    "        img1 = testing_data[i][1]\n",
    "        img2 = testing_data[i][2]\n",
    "        # Initiate SIFT detector\n",
    "        sift = cv.SIFT_create()\n",
    "\n",
    "        # find the keypoints and descriptors with SIFT\n",
    "        kp1, des1 = sift.detectAndCompute(img1,None)\n",
    "        kp2, des2 = sift.detectAndCompute(img2,None)\n",
    "\n",
    "        # BFMatcher with default params\n",
    "        bf = cv.BFMatcher()\n",
    "        matches = bf.knnMatch(des1,des2, k=2)\n",
    "\n",
    "        # Apply ratio test\n",
    "        good = []\n",
    "        for m,n in matches:\n",
    "            if m.distance < 0.75*n.distance:\n",
    "                good.append([m])\n",
    "        total_matches += len(matches)\n",
    "        good_matches += len(good)\n",
    "        valid_image_count +=1\n",
    "    except Exception as e:\n",
    "        invalid_image_count += 1\n",
    "        pass\n",
    "\n",
    "# Draw matches.\n",
    "print(\"Total Valid Images: \"+str(valid_image_count))\n",
    "print(\"Total Invalid Images: \"+str(invalid_image_count))\n",
    "print(\"Total Features Matches Found: \"+str(total_matches))\n",
    "print(\"Total Bad Matches Found: \"+str(total_matches-good_matches))\n",
    "print(\"Total Good Matches Found: \"+str(good_matches))\n",
    "# cv2.drawMatchesKnn expects list of lists as matches.\n",
    "img3 = cv.drawMatchesKnn(img1,kp1,img2,kp2,good,None,flags=2)\n",
    "plt.imshow(img3),plt.show()"
   ]
  },
  {
   "cell_type": "markdown",
   "metadata": {},
   "source": [
    "### FLANN based Matcher with SIFT descriptors"
   ]
  },
  {
   "cell_type": "code",
   "execution_count": 8,
   "metadata": {},
   "outputs": [
    {
     "data": {
      "application/vnd.jupyter.widget-view+json": {
       "model_id": "fc3497d290324dafa0772f0d3c1c89ef",
       "version_major": 2,
       "version_minor": 0
      },
      "text/plain": [
       "HBox(children=(FloatProgress(value=0.0, max=12023.0), HTML(value='')))"
      ]
     },
     "metadata": {},
     "output_type": "display_data"
    },
    {
     "name": "stdout",
     "output_type": "stream",
     "text": [
      "\n",
      "Valid Images: 10832\n",
      "Invalid Images: 1191\n",
      "Total Feature Matches Found: 45591\n",
      "Total Bad Matches: 32854\n",
      "Total Good Matches: 12737\n"
     ]
    },
    {
     "data": {
      "image/png": "[encoded data removed]",
      "text/plain": [
       "<Figure size 432x288 with 1 Axes>"
      ]
     },
     "metadata": {
      "needs_background": "light"
     },
     "output_type": "display_data"
    },
    {
     "data": {
      "text/plain": [
       "(<matplotlib.image.AxesImage at 0x1bb963bd3c8>, None)"
      ]
     },
     "execution_count": 8,
     "metadata": {},
     "output_type": "execute_result"
    }
   ],
   "source": [
    "# img1 = cv.imread('box.png',cv.IMREAD_GRAYSCALE)          # queryImage\n",
    "# img2 = cv.imread('box_in_scene.png',cv.IMREAD_GRAYSCALE) # trainImage\n",
    "total_matches = 0\n",
    "false_matches = 0\n",
    "true_matches = 0\n",
    "\n",
    "valid_image_count = 0\n",
    "invalid_image_count = 0\n",
    "pbar = tqdm(range(len(testing_data)))\n",
    "for f in pbar:\n",
    "    try:\n",
    "        img1 = testing_data[f][1]\n",
    "        img2 = testing_data[f][2]\n",
    "\n",
    "        # Initiate SIFT detector\n",
    "        sift = cv.SIFT_create()\n",
    "        # find the keypoints and descriptors with SIFT\n",
    "        kp1, des1 = sift.detectAndCompute(img1,None)\n",
    "        kp2, des2 = sift.detectAndCompute(img2,None)\n",
    "        # FLANN parameters\n",
    "        FLANN_INDEX_KDTREE = 1\n",
    "        index_params = dict(algorithm = FLANN_INDEX_KDTREE, trees = 5)\n",
    "        search_params = dict(checks=50)   # or pass empty dictionary\n",
    "        flann = cv.FlannBasedMatcher(index_params,search_params)\n",
    "        matches = flann.knnMatch(des1,des2,k=2)\n",
    "        # Need to draw only good matches, so create a mask\n",
    "\n",
    "        matchesMask = [[0,0] for i in range(len(matches))]\n",
    "        # ratio test as per Lowe's paper\n",
    "        for i,(m,n) in enumerate(matches):\n",
    "            if m.distance < 0.7*n.distance:\n",
    "                matchesMask[i]=[1,0]\n",
    "        draw_params = dict(matchColor = (0,255,0),\n",
    "                           singlePointColor = (255,0,0),\n",
    "                           matchesMask = matchesMask,\n",
    "                           flags = cv.DrawMatchesFlags_DEFAULT)\n",
    "\n",
    "        #print number of matches\n",
    "        total_matches += len(matches)\n",
    "        for mask in draw_params['matchesMask']:\n",
    "            if(mask)==[0,0]:\n",
    "                false_matches += 1\n",
    "            else:\n",
    "                true_matches += 1\n",
    "        valid_image_count += 1\n",
    "    except Exception as e:\n",
    "        invalid_image_count += 1\n",
    "        pass\n",
    "    \n",
    "print(\"Valid Images: \"+str(valid_image_count))\n",
    "print(\"Invalid Images: \"+str(invalid_image_count))\n",
    "print(\"Total Feature Matches Found: \"+str(total_matches))  \n",
    "print(\"Total Bad Matches: \"+str(false_matches))\n",
    "print(\"Total Good Matches: \"+str(true_matches))\n",
    "\n",
    "img3 = cv.drawMatchesKnn(img1,kp1,img2,kp2,matches,None,**draw_params)\n",
    "plt.imshow(img3,),plt.show()"
   ]
  },
  {
   "cell_type": "markdown",
   "metadata": {},
   "source": [
    "### RANSAC Matcher with SIFT descriptors"
   ]
  },
  {
   "cell_type": "code",
   "execution_count": 9,
   "metadata": {},
   "outputs": [
    {
     "data": {
      "application/vnd.jupyter.widget-view+json": {
       "model_id": "b4acc9968b714bc6b7b7ab75ffebd052",
       "version_major": 2,
       "version_minor": 0
      },
      "text/plain": [
       "HBox(children=(FloatProgress(value=0.0, max=12023.0), HTML(value='')))"
      ]
     },
     "metadata": {},
     "output_type": "display_data"
    },
    {
     "name": "stdout",
     "output_type": "stream",
     "text": [
      "\n",
      "Valid Images: 8790\n",
      "Invalid Images: 3233\n",
      "Total Feature Matches Found: 33872\n",
      "Total Bad Matches: 14500\n",
      "Total Good Matches: 19372\n"
     ]
    },
    {
     "data": {
      "image/png": "[encoded data removed]",
      "text/plain": [
       "<Figure size 432x288 with 1 Axes>"
      ]
     },
     "metadata": {
      "needs_background": "light"
     },
     "output_type": "display_data"
    },
    {
     "data": {
      "text/plain": [
       "(<matplotlib.image.AxesImage at 0x1bb99508c08>, None)"
      ]
     },
     "execution_count": 9,
     "metadata": {},
     "output_type": "execute_result"
    }
   ],
   "source": [
    "import numpy as np\n",
    "import cv2\n",
    "from matplotlib import pyplot as plt\n",
    "\n",
    "total_matches = 0\n",
    "false_matches = 0\n",
    "true_matches = 0\n",
    "\n",
    "valid_image_count = 0\n",
    "invalid_image_count = 0\n",
    "\n",
    "\n",
    "MIN_MATCH_COUNT = 1\n",
    "\n",
    "# img1 = cv2.imread('box.png',0)          # queryImage\n",
    "# img2 = cv2.imread('box_in_scene.png',0) # trainImage\n",
    "pbar = tqdm(range(len(testing_data)))\n",
    "for f in pbar:\n",
    "    try:\n",
    "        img1 = testing_data[f][1]\n",
    "        img2 = testing_data[f][2]\n",
    "\n",
    "        # Initiate SIFT detector\n",
    "        sift = cv2.SIFT_create()\n",
    "\n",
    "        # find the keypoints and descriptors with SIFT\n",
    "        kp1, des1 = sift.detectAndCompute(img1,None)\n",
    "        kp2, des2 = sift.detectAndCompute(img2,None)\n",
    "\n",
    "        FLANN_INDEX_KDTREE = 0\n",
    "        index_params = dict(algorithm = FLANN_INDEX_KDTREE, trees = 5)\n",
    "        search_params = dict(checks = 50)\n",
    "\n",
    "        flann = cv2.FlannBasedMatcher(index_params, search_params)\n",
    "\n",
    "        matches = flann.knnMatch(des1,des2,k=2)\n",
    "\n",
    "        # store all the good matches as per Lowe's ratio test.\n",
    "        good = []\n",
    "        for m,n in matches:\n",
    "            if m.distance < 0.6*n.distance:\n",
    "                good.append(m)\n",
    "\n",
    "        if len(good)>MIN_MATCH_COUNT:\n",
    "            src_pts = np.float32([ kp1[m.queryIdx].pt for m in good ]).reshape(-1,1,2)\n",
    "            dst_pts = np.float32([ kp2[m.trainIdx].pt for m in good ]).reshape(-1,1,2)\n",
    "\n",
    "            M, mask = cv2.findHomography(src_pts, dst_pts, cv2.RANSAC,5.0)\n",
    "            matchesMask = mask.ravel().tolist()\n",
    "\n",
    "            h,w = img1.shape\n",
    "            pts = np.float32([ [0,0],[0,h-1],[w-1,h-1],[w-1,0] ]).reshape(-1,1,2)\n",
    "            dst = cv2.perspectiveTransform(pts,M)\n",
    "\n",
    "            img2 = cv2.polylines(img2,[np.int32(dst)],True,255,3, cv2.LINE_AA)\n",
    "\n",
    "        else:\n",
    "            matchesMask = None\n",
    "\n",
    "        draw_params = dict(matchColor = (0,255,0), # draw matches in green color\n",
    "                           singlePointColor = None,\n",
    "                           matchesMask = matchesMask, # draw only inliers\n",
    "                           flags = 2)\n",
    "        #print number of matches\n",
    "        total_matches += len(matches)\n",
    "        good_matches += len(good)\n",
    "#         for mask in draw_params['matchesMask']:\n",
    "#             if(mask)==1:\n",
    "#                 true_matches += 1\n",
    "#             else:\n",
    "#                 false_matches += 1\n",
    "                \n",
    "        valid_image_count += 1\n",
    "    except Exception as e:\n",
    "        invalid_image_count += 1\n",
    "        pass\n",
    "\n",
    "#print number of matches\n",
    "print(\"Valid Images: \"+str(valid_image_count))\n",
    "print(\"Invalid Images: \"+str(invalid_image_count))\n",
    "print(\"Total Feature Matches Found: \"+str(total_matches))  \n",
    "print(\"Total Bad Matches: \"+str(total_matches-good_matches))\n",
    "print(\"Total Good Matches: \"+str(good_matches))\n",
    "\n",
    "img3 = cv2.drawMatches(img1,kp1,img2,kp2,good,None,**draw_params)\n",
    "\n",
    "plt.imshow(img3, 'gray'),plt.show()"
   ]
  },
  {
   "cell_type": "code",
   "execution_count": null,
   "metadata": {},
   "outputs": [],
   "source": []
  }
 ],
 "metadata": {
  "kernelspec": {
   "display_name": "Python 3",
   "language": "python",
   "name": "python3"
  },
  "language_info": {
   "codemirror_mode": {
    "name": "ipython",
    "version": 3
   },
   "file_extension": ".py",
   "mimetype": "text/x-python",
   "name": "python",
   "nbconvert_exporter": "python",
   "pygments_lexer": "ipython3",
   "version": "3.7.6"
  }
 },
 "nbformat": 4,
 "nbformat_minor": 4
}
