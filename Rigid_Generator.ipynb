{
 "cells": [
  {
   "cell_type": "code",
   "execution_count": null,
   "metadata": {},
   "outputs": [],
   "source": [
    "# Install a conda package in the current Jupyter kernel\n",
    "import sys\n",
    "!conda install --yes --prefix {sys.prefix} scikit-image"
   ]
  },
  {
   "cell_type": "code",
   "execution_count": 1,
   "metadata": {},
   "outputs": [],
   "source": [
    "import numpy as np\n",
    "import tensorflow as tf\n",
    "import matplotlib.image as mpimg\n",
    "import matplotlib.pyplot as plt\n",
    "from scipy.ndimage import zoom\n",
    "import cv2\n",
    "import random\n",
    "from random import seed\n",
    "from random import randint\n",
    "from numpy import savetxt\n",
    "from PIL import Image\n",
    "import os\n",
    "from skimage import data, transform\n",
    "from tqdm.notebook import tqdm"
   ]
  },
  {
   "cell_type": "markdown",
   "metadata": {},
   "source": [
    "## Preprocess the Fashion-MNIST data"
   ]
  },
  {
   "cell_type": "code",
   "execution_count": 2,
   "metadata": {},
   "outputs": [],
   "source": [
    "np.random.seed(1)\n",
    "tf.random.set_seed(1)\n",
    "batch_size = 128\n",
    "\n",
    "#Load fashion MNIST and store into array training_features (dont load in labels)\n",
    "(training_features, _), _ = tf.keras.datasets.fashion_mnist.load_data()\n",
    "#normalize pixel values\n",
    "training_features = training_features / np.max(training_features)\n",
    "\n",
    "training_dataset = tf.data.Dataset.from_tensor_slices(training_features)\n",
    "training_dataset = training_dataset.batch(batch_size)\n",
    "#dont shuffle\n",
    "#training_dataset = training_dataset.shuffle(training_features.shape[0])\n",
    "training_dataset = training_dataset.prefetch(batch_size * 4)"
   ]
  },
  {
   "cell_type": "markdown",
   "metadata": {},
   "source": [
    "## NonRigid Transformation Function Definitions"
   ]
  },
  {
   "cell_type": "code",
   "execution_count": 3,
   "metadata": {},
   "outputs": [],
   "source": [
    "# From https://mmas.github.io/linear-transformations-numpy\n",
    "def linear_transformation(src, a):\n",
    "    M, N = src.shape\n",
    "    points = np.mgrid[0:N, 0:M].reshape((2, M*N))\n",
    "    new_points = np.linalg.inv(a).dot(points).round().astype(int)\n",
    "    x, y = new_points.reshape((2, M, N), order='F')\n",
    "    indices = x + N*y\n",
    "    return np.take(src, indices, mode='wrap')"
   ]
  },
  {
   "cell_type": "markdown",
   "metadata": {},
   "source": [
    "## Generate NonRigid Images\n",
    "\n",
    "#### Generates 60,000 Original/Transformed/Composite"
   ]
  },
  {
   "cell_type": "code",
   "execution_count": 4,
   "metadata": {},
   "outputs": [
    {
     "data": {
      "application/vnd.jupyter.widget-view+json": {
       "model_id": "b84f5f4d6b2245ec9234d825e013cf2a",
       "version_major": 2,
       "version_minor": 0
      },
      "text/plain": [
       "HBox(children=(HTML(value=''), FloatProgress(value=0.0, max=60000.0), HTML(value='')))"
      ]
     },
     "metadata": {},
     "output_type": "display_data"
    },
    {
     "name": "stdout",
     "output_type": "stream",
     "text": [
      "\n"
     ]
    }
   ],
   "source": [
    "def generateRigid():\n",
    "    transforms = randint(1,7)\n",
    "    pbar = tqdm(range(len(training_features)))\n",
    "    for i in pbar:\n",
    "        transformation = training_features[i]\n",
    "        if transforms == 7:\n",
    "            # translation\n",
    "            x = randint(0,27)\n",
    "            y = randint(0,27)\n",
    "            transformation = np.roll(transformation, x, axis=0)\n",
    "            transformation = np.roll(transformation, y, axis=1)\n",
    "            # rotation\n",
    "            degree = randint(1,360)\n",
    "            radian = np.radians(degree)\n",
    "            a = np.array([[np.cos(radian), -np.sin(radian)],\n",
    "                          [np.sin(radian), np.cos(radian)]])\n",
    "            transformation = linear_transformation(transformation, a)\n",
    "            # reflection\n",
    "            degree = randint(1, 360)\n",
    "            radian = np.radians(degree)\n",
    "            a = np.array([[np.cos(radian), np.sin(radian)],\n",
    "                          [np.sin(2 * radian), -np.cos(radian)]])\n",
    "            transformation = linear_transformation(transformation, a)\n",
    "        elif transforms == 6:\n",
    "            # translation\n",
    "            x = randint(0, 27)\n",
    "            y = randint(0, 27)\n",
    "            transformation = np.roll(transformation, x, axis=0)\n",
    "            transformation = np.roll(transformation, y, axis=1)\n",
    "            # rotation\n",
    "            degree = randint(1, 360)\n",
    "            radian = np.radians(degree)\n",
    "            a = np.array([[np.cos(radian), -np.sin(radian)],\n",
    "                          [np.sin(radian), np.cos(radian)]])\n",
    "            transformation = linear_transformation(transformation, a)\n",
    "        elif transforms == 5:\n",
    "            # translation\n",
    "            x = randint(0, 27)\n",
    "            y = randint(0, 27)\n",
    "            transformation = np.roll(transformation, x, axis=0)\n",
    "            transformation = np.roll(transformation, y, axis=1)\n",
    "            # reflection\n",
    "            degree = randint(1, 360)\n",
    "            radian = np.radians(degree)\n",
    "            a = np.array([[np.cos(radian), np.sin(radian)],\n",
    "                          [np.sin(2 * radian), -np.cos(radian)]])\n",
    "            transformation = linear_transformation(transformation, a)\n",
    "        elif transforms == 4:\n",
    "            # rotation\n",
    "            degree = randint(1, 360)\n",
    "            radian = np.radians(degree)\n",
    "            a = np.array([[np.cos(radian), -np.sin(radian)],\n",
    "                          [np.sin(radian), np.cos(radian)]])\n",
    "            transformation = linear_transformation(transformation, a)\n",
    "            # reflection\n",
    "            degree = randint(1, 360)\n",
    "            radian = np.radians(degree)\n",
    "            a = np.array([[np.cos(radian), np.sin(radian)],\n",
    "                          [np.sin(2 * radian), -np.cos(radian)]])\n",
    "            transformation = linear_transformation(transformation, a)\n",
    "        elif transforms == 3:\n",
    "            # translation\n",
    "            x = randint(0, 27)\n",
    "            y = randint(0, 27)\n",
    "            transformation = np.roll(transformation, x, axis=0)\n",
    "            transformation = np.roll(transformation, y, axis=1)\n",
    "        elif transforms == 2:\n",
    "            # rotation\n",
    "            degree = randint(1, 360)\n",
    "            radian = np.radians(degree)\n",
    "            a = np.array([[np.cos(radian), -np.sin(radian)],\n",
    "                          [np.sin(radian), np.cos(radian)]])\n",
    "            transformation = linear_transformation(transformation, a)\n",
    "        else:\n",
    "            # reflection\n",
    "            degree = randint(1, 360)\n",
    "            radian = np.radians(degree)\n",
    "            a = np.array([[np.cos(radian), np.sin(radian)],\n",
    "                          [np.sin(2 * radian), -np.cos(radian)]])\n",
    "            transformation = linear_transformation(transformation, a)\n",
    "        \n",
    "        composite = (training_features[i]/2) + (transformation/2)\n",
    "        \n",
    "        #create image objects of transformation/original/composite\n",
    "        transformation_img = Image.fromarray(np.uint8(transformation*255),'L')\n",
    "        original_img = Image.fromarray(np.uint8(training_features[i]*255),'L')\n",
    "        composite_img = Image.fromarray(np.uint8(composite*255),'L')\n",
    "        \n",
    "        #save images to disk\n",
    "        transformation_img.save('C:\\\\Users\\\\gunne\\\\Desktop\\\\CS791\\\\Rigid\\\\Transformed\\\\'+str(i)+'.jpg')\n",
    "        original_img.save('C:\\\\Users\\\\gunne\\\\Desktop\\\\CS791\\\\Rigid\\\\Original\\\\'+str(i)+'.jpg')\n",
    "        composite_img.save('C:\\\\Users\\\\gunne\\\\Desktop\\\\CS791\\\\Rigid\\\\Composite\\\\'+str(i)+'.jpg')\n",
    "\n",
    "\n",
    "if __name__ == \"__main__\":\n",
    "    generateRigid()"
   ]
  },
  {
   "cell_type": "code",
   "execution_count": null,
   "metadata": {},
   "outputs": [],
   "source": []
  }
 ],
 "metadata": {
  "kernelspec": {
   "display_name": "Python 3",
   "language": "python",
   "name": "python3"
  },
  "language_info": {
   "codemirror_mode": {
    "name": "ipython",
    "version": 3
   },
   "file_extension": ".py",
   "mimetype": "text/x-python",
   "name": "python",
   "nbconvert_exporter": "python",
   "pygments_lexer": "ipython3",
   "version": "3.8.5"
  }
 },
 "nbformat": 4,
 "nbformat_minor": 4
}
